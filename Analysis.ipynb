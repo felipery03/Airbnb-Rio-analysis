{
 "cells": [
  {
   "cell_type": "code",
   "execution_count": null,
   "metadata": {},
   "outputs": [],
   "source": [
    "import pandas as pd\n",
    "import geopandas as gpd\n",
    "import matplotlib.pyplot as plt\n",
    "import seaborn as sns\n",
    "import numpy as np\n",
    "from sklearn.preprocessing import MultiLabelBinarizer\n",
    "from sklearn.metrics import mean_absolute_error\n",
    "from sklearn.model_selection import train_test_split\n",
    "from sklearn.linear_model import LinearRegression\n",
    "import sys\n",
    "%matplotlib inline\n",
    "from src import utils"
   ]
  },
  {
   "cell_type": "markdown",
   "metadata": {},
   "source": [
    "## Questions\n",
    "<ol>\n",
    " <li>Which neighbourhoods are most frequented?</li>\n",
    " <li>which elements influence the price?</li>\n",
    " <li> What about economy due to COVID-19 quarantine? \n",
    "</li>\n",
    "</ol>\n",
    "\n",
    "Future works:\n",
    "<ol>\n",
    "<li> Satisfation in a review is about perfection or surprise? Sentimental analysis in reviews text\n",
    "<li> Analysis in prob to rent places (anomaly detection?)\n",
    "</ol>"
   ]
  },
  {
   "cell_type": "markdown",
   "metadata": {},
   "source": [
    "# Load Datasets"
   ]
  },
  {
   "cell_type": "code",
   "execution_count": null,
   "metadata": {},
   "outputs": [],
   "source": [
    "# Calendar of next books since 25/10/2020\n",
    "calendar = pd.read_csv('data/raw/calendar.csv')\n",
    "\n",
    "# List of places registered in Airbnb Rio\n",
    "listings = pd.read_csv('data/raw/listings.csv')\n",
    "\n",
    "# Reviews registered\n",
    "reviews = pd.read_csv('data/raw/reviews.csv')\n",
    "\n",
    "# List of neighbourhoods\n",
    "nb = pd.read_csv('data/raw/neighbourhoods.csv')\n",
    "\n",
    "# Summary of places registered in Airbnb RIO\n",
    "lists = pd.read_csv('data/raw/listings_summary.csv')\n",
    "\n",
    "# Summary of reviews registered\n",
    "revs = pd.read_csv('data/raw/reviews_summary.csv')\n",
    "\n",
    "# Info geospatial about Rio\n",
    "df_places = gpd.read_file('data/raw/neighbourhoods.geojson')"
   ]
  },
  {
   "cell_type": "markdown",
   "metadata": {},
   "source": [
    "# Filter from listings inative hosts"
   ]
  },
  {
   "cell_type": "code",
   "execution_count": null,
   "metadata": {},
   "outputs": [],
   "source": [
    "listings_filtered = utils.calc_delta_day(listings, 'last_review')"
   ]
  },
  {
   "cell_type": "markdown",
   "metadata": {},
   "source": [
    "- Filter only hosts who has at least 1 review last 6 months"
   ]
  },
  {
   "cell_type": "code",
   "execution_count": null,
   "metadata": {},
   "outputs": [],
   "source": [
    "listings_filtered = listings_filtered[listings_filtered.delta_last_review <= 180]"
   ]
  },
  {
   "cell_type": "markdown",
   "metadata": {},
   "source": [
    "# 1. Which neighbourhoods are most frequented?"
   ]
  },
  {
   "cell_type": "code",
   "execution_count": null,
   "metadata": {},
   "outputs": [],
   "source": [
    "count_revs = revs[revs.date >= '2020-04-25'].groupby('listing_id').count().reset_index()"
   ]
  },
  {
   "cell_type": "code",
   "execution_count": null,
   "metadata": {},
   "outputs": [],
   "source": [
    "count_revs.columns = ['id', 'count_reviews']"
   ]
  },
  {
   "cell_type": "code",
   "execution_count": null,
   "metadata": {},
   "outputs": [],
   "source": [
    "neighbourhood = lists[['id', 'neighbourhood']].copy()"
   ]
  },
  {
   "cell_type": "code",
   "execution_count": null,
   "metadata": {},
   "outputs": [],
   "source": [
    "df_neighbourhood = neighbourhood.merge(count_revs, how='inner', on='id')"
   ]
  },
  {
   "cell_type": "code",
   "execution_count": null,
   "metadata": {},
   "outputs": [],
   "source": [
    "count_neighbourhood = df_neighbourhood.groupby('neighbourhood')['count_reviews'].sum().sort_values(ascending=False)"
   ]
  },
  {
   "cell_type": "code",
   "execution_count": null,
   "metadata": {},
   "outputs": [],
   "source": [
    "total_reviews = df_neighbourhood['count_reviews'].sum()"
   ]
  },
  {
   "cell_type": "code",
   "execution_count": null,
   "metadata": {},
   "outputs": [],
   "source": [
    "result_1 = (count_neighbourhood/total_reviews).head(10)\n",
    "result_1"
   ]
  },
  {
   "cell_type": "code",
   "execution_count": null,
   "metadata": {},
   "outputs": [],
   "source": [
    "result_1.reset_index().neighbourhood"
   ]
  },
  {
   "cell_type": "code",
   "execution_count": null,
   "metadata": {},
   "outputs": [],
   "source": [
    "result_1.reset_index().count_reviews"
   ]
  },
  {
   "cell_type": "code",
   "execution_count": null,
   "metadata": {},
   "outputs": [],
   "source": [
    "plt.rcParams[\"figure.figsize\"] = (12,5)"
   ]
  },
  {
   "cell_type": "code",
   "execution_count": null,
   "metadata": {},
   "outputs": [],
   "source": [
    "plt.bar(result_1.reset_index().neighbourhood.values, result_1.reset_index().count_reviews.values)\n",
    "plt.xticks(rotation=30)"
   ]
  },
  {
   "cell_type": "markdown",
   "metadata": {},
   "source": [
    "- Places in the list"
   ]
  },
  {
   "cell_type": "code",
   "execution_count": null,
   "metadata": {},
   "outputs": [],
   "source": [
    "df_neighbourhood.neighbourhood.value_counts(normalize=True).head(10)"
   ]
  },
  {
   "cell_type": "markdown",
   "metadata": {},
   "source": [
    "- plots"
   ]
  },
  {
   "cell_type": "code",
   "execution_count": null,
   "metadata": {},
   "outputs": [],
   "source": [
    "# Create flag top_neighbourhoods\n",
    "df_places.loc[df_places.neighbourhood.isin(list(result_1.index)), 'top_neighbourhood'] = 1\n",
    "df_places.top_neighbourhood.fillna(0, inplace=True)"
   ]
  },
  {
   "cell_type": "code",
   "execution_count": null,
   "metadata": {},
   "outputs": [],
   "source": [
    "plot = df_places.plot(column='top_neighbourhood', cmap='coolwarm')\n",
    "fig = plot.get_figure()\n",
    "fig.savefig('figures/neighbourhood_map.png', dpi=600, transparent=True)"
   ]
  },
  {
   "cell_type": "markdown",
   "metadata": {},
   "source": [
    "# 2. Which elements influence the price?</li>"
   ]
  },
  {
   "cell_type": "markdown",
   "metadata": {},
   "source": [
    "- Drop outliers in price"
   ]
  },
  {
   "cell_type": "code",
   "execution_count": null,
   "metadata": {},
   "outputs": [],
   "source": [
    "listings_filtered = listings_filtered[listings_filtered.price.apply(lambda x: len(x)) != 10]"
   ]
  },
  {
   "cell_type": "markdown",
   "metadata": {},
   "source": [
    "- DROP 4 NAN listings reviews in specific categories"
   ]
  },
  {
   "cell_type": "code",
   "execution_count": null,
   "metadata": {},
   "outputs": [],
   "source": [
    "listings_filtered  = listings_filtered [~listings_filtered .review_scores_accuracy.isnull()]"
   ]
  },
  {
   "cell_type": "code",
   "execution_count": null,
   "metadata": {},
   "outputs": [],
   "source": [
    "listings_filtered .reset_index(drop=True, inplace=True)"
   ]
  },
  {
   "cell_type": "markdown",
   "metadata": {},
   "source": [
    "# Data Prep"
   ]
  },
  {
   "cell_type": "code",
   "execution_count": null,
   "metadata": {},
   "outputs": [],
   "source": [
    "num_cols = [\n",
    "    'host_since', 'host_response_rate', 'host_acceptance_rate', 'accommodates',\n",
    "    'bedrooms', 'beds', 'minimum_nights', 'maximum_nights', 'availability_30',\n",
    "    'availability_60', 'availability_90', 'availability_365', 'number_of_reviews',\n",
    "    'last_review', 'review_scores_rating', 'review_scores_accuracy',\n",
    "    'review_scores_cleanliness', 'review_scores_checkin', 'review_scores_communication',\n",
    "    'review_scores_location', 'review_scores_value', 'reviews_per_month', 'price'\n",
    "    ]"
   ]
  },
  {
   "cell_type": "code",
   "execution_count": null,
   "metadata": {},
   "outputs": [],
   "source": [
    "df_num = listings_filtered[num_cols].copy()"
   ]
  },
  {
   "cell_type": "code",
   "execution_count": null,
   "metadata": {},
   "outputs": [],
   "source": [
    "df_num.head()"
   ]
  },
  {
   "cell_type": "code",
   "execution_count": null,
   "metadata": {},
   "outputs": [],
   "source": [
    "# PREP numerical columns\n",
    "df_num = utils.calc_delta_day(df_num, 'host_since', True)\n",
    "df_num = utils.calc_delta_day(df_num, 'last_review', True)\n",
    "df_num = utils.cast_pct_col(df_num, 'host_response_rate')\n",
    "df_num = utils.cast_pct_col(df_num, 'host_acceptance_rate')\n",
    "df_num = utils.cast_currency_col(df_num, 'price')"
   ]
  },
  {
   "cell_type": "code",
   "execution_count": null,
   "metadata": {},
   "outputs": [],
   "source": [
    "fig, ax = plt.subplots(figsize=(18, 8))\n",
    "fig = sns.heatmap(ax=ax, data=df_num.corr(), annot=True)\n",
    "\n",
    "# accomodates, bedrooms and bed are highly correlated with price"
   ]
  },
  {
   "cell_type": "markdown",
   "metadata": {},
   "source": [
    "- Fill NAs"
   ]
  },
  {
   "cell_type": "code",
   "execution_count": null,
   "metadata": {},
   "outputs": [],
   "source": [
    "df_num.isnull().sum()"
   ]
  },
  {
   "cell_type": "markdown",
   "metadata": {},
   "source": [
    "- NAN bedrooms are studio type?"
   ]
  },
  {
   "cell_type": "code",
   "execution_count": null,
   "metadata": {},
   "outputs": [],
   "source": [
    "aux = listings[listings.bedrooms.isnull()][['accommodates', 'listing_url']]"
   ]
  },
  {
   "cell_type": "code",
   "execution_count": null,
   "metadata": {},
   "outputs": [],
   "source": [
    "aux.accommodates.value_counts()"
   ]
  },
  {
   "cell_type": "code",
   "execution_count": null,
   "metadata": {},
   "outputs": [],
   "source": [
    "aux[aux.accommodates == 16]"
   ]
  },
  {
   "cell_type": "markdown",
   "metadata": {},
   "source": [
    "Conclusion: Yes, or places to only rent to make a party"
   ]
  },
  {
   "cell_type": "code",
   "execution_count": null,
   "metadata": {},
   "outputs": [],
   "source": [
    "fill_zero = ['bedrooms', 'beds']\n",
    "fill_mean = ['host_response_rate', 'host_acceptance_rate']\n",
    "\n",
    "df_num.loc[:, fill_zero] = df_num[fill_zero].fillna(0)\n",
    "df_num.loc[:, fill_mean] = df_num[fill_mean].fillna(df_num[fill_mean].mean())"
   ]
  },
  {
   "cell_type": "code",
   "execution_count": null,
   "metadata": {},
   "outputs": [],
   "source": [
    "df_num.isnull().sum().sum()\n",
    "# Nan problems solved"
   ]
  },
  {
   "cell_type": "markdown",
   "metadata": {},
   "source": [
    "- Train Test Split"
   ]
  },
  {
   "cell_type": "code",
   "execution_count": null,
   "metadata": {},
   "outputs": [],
   "source": [
    "X = df_num.drop('price', axis=1)\n",
    "y = df_num.price"
   ]
  },
  {
   "cell_type": "code",
   "execution_count": null,
   "metadata": {},
   "outputs": [],
   "source": [
    "mae_train, mae_test, lmodel = utils.train_lmodel(X, y)"
   ]
  },
  {
   "cell_type": "markdown",
   "metadata": {},
   "source": [
    "### Categorical Features"
   ]
  },
  {
   "cell_type": "code",
   "execution_count": null,
   "metadata": {},
   "outputs": [],
   "source": [
    "cat_cols = [\n",
    "    'host_response_time', 'host_is_superhost', 'host_identity_verified',\n",
    "    'neighbourhood_cleansed', 'room_type', 'amenities', 'instant_bookable'\n",
    "    ]"
   ]
  },
  {
   "cell_type": "code",
   "execution_count": null,
   "metadata": {},
   "outputs": [],
   "source": [
    "df_cat = listings_filtered[cat_cols].copy()"
   ]
  },
  {
   "cell_type": "code",
   "execution_count": null,
   "metadata": {},
   "outputs": [],
   "source": [
    "df_cat.head()"
   ]
  },
  {
   "cell_type": "code",
   "execution_count": null,
   "metadata": {},
   "outputs": [],
   "source": [
    "df_cat = utils.cast_bool(df_cat, 'host_is_superhost')\n",
    "df_cat = utils.cast_bool(df_cat, 'host_identity_verified')\n",
    "df_cat = utils.cast_bool(df_cat,'instant_bookable')\n",
    "df_cat = utils.flag_room_type(df_cat, 'room_type', True)\n",
    "df_cat = utils.create_dummies(df_cat, 'host_response_time')\n",
    "df_cat = utils.create_dummies(df_cat, 'neighbourhood_cleansed')"
   ]
  },
  {
   "cell_type": "code",
   "execution_count": null,
   "metadata": {},
   "outputs": [],
   "source": [
    "df_cat, mlb = utils.processes_mlb(df_cat, 'amenities', True)"
   ]
  },
  {
   "cell_type": "code",
   "execution_count": null,
   "metadata": {},
   "outputs": [],
   "source": [
    "# Putting together num and cat columns\n",
    "df_final = df_num.join(df_cat)\n",
    "\n",
    "X = df_final.drop('price', axis=1)\n",
    "y = df_final.price"
   ]
  },
  {
   "cell_type": "code",
   "execution_count": null,
   "metadata": {},
   "outputs": [],
   "source": [
    "mae_train_cat, mae_test_cat, lmodel_cat = utils.train_lmodel(X, y)"
   ]
  },
  {
   "cell_type": "markdown",
   "metadata": {},
   "source": [
    "Observation: Overfit due to too many features!"
   ]
  },
  {
   "cell_type": "markdown",
   "metadata": {},
   "source": [
    "### Feature Selection"
   ]
  },
  {
   "cell_type": "code",
   "execution_count": null,
   "metadata": {},
   "outputs": [],
   "source": [
    "# Create list of possible cuts to vary in minimun percentage\n",
    "# of positive class distribution in each columns\n",
    "cuts = list(np.array(range(500, 1, -1))/500)"
   ]
  },
  {
   "cell_type": "code",
   "execution_count": null,
   "metadata": {},
   "outputs": [],
   "source": [
    "mae_trains, mae_tests, num_feats, best_model, reduce_x = utils.select_features(X, y, cuts)"
   ]
  },
  {
   "cell_type": "code",
   "execution_count": null,
   "metadata": {},
   "outputs": [],
   "source": [
    "plt.plot(num_feats, mae_trains)\n",
    "plt.plot(num_feats, mae_tests.values())"
   ]
  },
  {
   "cell_type": "code",
   "execution_count": null,
   "metadata": {},
   "outputs": [],
   "source": [
    "cols = list(reduce_x.columns)\n",
    "feature_importance = pd.DataFrame(best_model.coef_, index=list(reduce_x.columns))\n",
    "feature_importance.columns = ['feature_importance']"
   ]
  },
  {
   "cell_type": "code",
   "execution_count": null,
   "metadata": {},
   "outputs": [],
   "source": [
    "# High positive importance features\n",
    "feature_importance.sort_values(by='feature_importance', ascending=False).head(10)"
   ]
  },
  {
   "cell_type": "code",
   "execution_count": null,
   "metadata": {},
   "outputs": [],
   "source": [
    "# High negative importance features\n",
    "feature_importance.sort_values(by='feature_importance').head(5)"
   ]
  },
  {
   "cell_type": "markdown",
   "metadata": {},
   "source": [
    "# 3. What about economy due to COVID-19 quarantine?"
   ]
  },
  {
   "cell_type": "code",
   "execution_count": null,
   "metadata": {},
   "outputs": [],
   "source": [
    "# Filter always same period in each year\n",
    "reviews_2020 = revs[revs.date >= '2020-01-01'].copy()\n",
    "reviews_2019 = revs[(revs.date >= '2019-01-01') & (revs.date <= '2019-10-25')]\n",
    "reviews_2018 = revs[(revs.date >= '2018-01-01') & (revs.date <= '2018-10-25')]\n",
    "reviews_2017 = revs[(revs.date >= '2017-01-01') & (revs.date <= '2017-10-25')]\n",
    "reviews_2016 = revs[(revs.date >= '2016-01-01') & (revs.date <= '2016-10-25')]"
   ]
  },
  {
   "cell_type": "code",
   "execution_count": null,
   "metadata": {},
   "outputs": [],
   "source": [
    "reviews_2020 = utils.create_month(reviews_2020, 'date')\n",
    "reviews_2019 = utils.create_month(reviews_2019, 'date')\n",
    "reviews_2018 = utils.create_month(reviews_2018, 'date')\n",
    "reviews_2017 = utils.create_month(reviews_2017, 'date')\n",
    "reviews_2016 = utils.create_month(reviews_2016, 'date')"
   ]
  },
  {
   "cell_type": "code",
   "execution_count": null,
   "metadata": {},
   "outputs": [],
   "source": [
    "count_reviews_2020 = utils.count_reviews(reviews_2020, 'month', 2020)\n",
    "count_reviews_2019 = utils.count_reviews(reviews_2019, 'month', 2019)\n",
    "count_reviews_2018 = utils.count_reviews(reviews_2018, 'month', 2018)\n",
    "count_reviews_2017 = utils.count_reviews(reviews_2017, 'month', 2017)\n",
    "count_reviews_2016 = utils.count_reviews(reviews_2016, 'month', 2016)"
   ]
  },
  {
   "cell_type": "code",
   "execution_count": null,
   "metadata": {},
   "outputs": [],
   "source": [
    "count_concat = pd.concat([count_reviews_2020,\n",
    "                          count_reviews_2019,\n",
    "                          count_reviews_2018,\n",
    "                          count_reviews_2017,\n",
    "                          count_reviews_2016])"
   ]
  },
  {
   "cell_type": "code",
   "execution_count": null,
   "metadata": {},
   "outputs": [],
   "source": [
    "count_concat.groupby('year').counts.sum()"
   ]
  },
  {
   "cell_type": "code",
   "execution_count": null,
   "metadata": {},
   "outputs": [],
   "source": [
    "g = sns.catplot(\n",
    "    data=count_reviews_2020, kind=\"bar\",\n",
    "    x=\"month\", y=\"counts\", hue=\"year\",\n",
    "    ci=\"sd\", palette=\"dark\", alpha=.6, height=6\n",
    ")\n",
    "g.despine(left=True)\n",
    "g.set_axis_labels(\"Month\", \"Number of reviews\")\n",
    "g.legend.set_title(\"\")"
   ]
  },
  {
   "cell_type": "code",
   "execution_count": null,
   "metadata": {},
   "outputs": [],
   "source": [
    "result_sec_tri = utils.compare_tri(count_reviews_2019, count_reviews_2020, ['04', '05', '06'])\n",
    "msg = \"\"\"In 2020 second trimester, the number of reviews reduced {}% over same period in 2019.\"\"\".format(result_sec_tri)\n",
    "print(msg)"
   ]
  },
  {
   "cell_type": "code",
   "execution_count": null,
   "metadata": {},
   "outputs": [],
   "source": [
    "result_sec_tri = utils.compare_tri(count_reviews_2019, count_reviews_2020, ['07', '08', '09'])\n",
    "msg = \"\"\"In 2020 third trimester, the number of reviews reduced {}% over same period in 2019.\"\"\".format(result_sec_tri)\n",
    "print(msg)"
   ]
  },
  {
   "cell_type": "code",
   "execution_count": null,
   "metadata": {},
   "outputs": [],
   "source": [
    "g = sns.catplot(\n",
    "    data=count_concat, kind=\"bar\",\n",
    "    x=\"month\", y=\"counts\", hue=\"year\",\n",
    "    ci=\"sd\", palette=\"dark\", alpha=.6, height=6\n",
    ")\n",
    "g.despine(left=True)\n",
    "g.set_axis_labels(\"Month\", \"Number of reviews\")\n",
    "g.legend.set_title(\"\")\n",
    "g.savefig(\"figures/history_num_reviews.png\", dpi=600, transparent=True)"
   ]
  },
  {
   "cell_type": "markdown",
   "metadata": {},
   "source": [
    "Airbnb shows a growth over the years, including beginning of 2020 in janurary and februrary. However, COVID-19's \n",
    "phenomenon impacts hardly the services. In Brazil, quarantine started 24/03/2020. During second trimester of 2020, \n",
    "reviews numbers in RIO descresed 82% and third trimester 49% both compared with 2019 in same period. The flow is\n",
    "getting better but it yet is really far from growth before COVID-19."
   ]
  },
  {
   "cell_type": "markdown",
   "metadata": {},
   "source": [
    "### Check specific months in years that are outliars for annual growth behavior"
   ]
  },
  {
   "cell_type": "markdown",
   "metadata": {},
   "source": [
    "- Aug/2016"
   ]
  },
  {
   "cell_type": "markdown",
   "metadata": {},
   "source": [
    "In August of 2016, Brazil hosted Olympic Games"
   ]
  },
  {
   "cell_type": "markdown",
   "metadata": {},
   "source": [
    "- sep/2017"
   ]
  },
  {
   "cell_type": "code",
   "execution_count": null,
   "metadata": {},
   "outputs": [],
   "source": [
    "reviews_2017_sep = reviews_2017[reviews_2017.month == '09']\n",
    "count_days_2017_sep = utils.count_reviews(reviews_2017_sep, 'date', 2017)\n",
    "count_days_2017_sep['day'] = count_days_2017_sep.date.str.split('-').apply(lambda x: x[2])"
   ]
  },
  {
   "cell_type": "code",
   "execution_count": null,
   "metadata": {},
   "outputs": [],
   "source": [
    "g = sns.catplot(\n",
    "    data=count_days_2017_sep, kind=\"bar\",\n",
    "    x=\"day\", y=\"counts\", hue=\"year\",\n",
    "    ci=\"sd\", palette=\"dark\", alpha=.6, height=6,\n",
    ")\n",
    "g.despine(left=True)\n",
    "g.set_axis_labels(\"Month\", \"Number of reviews\")\n",
    "g.legend.set_title(\"\")"
   ]
  },
  {
   "cell_type": "markdown",
   "metadata": {},
   "source": [
    "During 15, 16, 17, 21, 22, 23 and 24 on september in 2017, \n",
    "happened Rock in Rio, one of the biggest music festival in the world. Apparentely, the lineup in that specif year was really good, because reviews after these days increased heavily."
   ]
  }
 ],
 "metadata": {
  "kernelspec": {
   "display_name": "my_env",
   "language": "python",
   "name": "my_env"
  },
  "language_info": {
   "codemirror_mode": {
    "name": "ipython",
    "version": 3
   },
   "file_extension": ".py",
   "mimetype": "text/x-python",
   "name": "python",
   "nbconvert_exporter": "python",
   "pygments_lexer": "ipython3",
   "version": "3.6.8"
  }
 },
 "nbformat": 4,
 "nbformat_minor": 2
}
